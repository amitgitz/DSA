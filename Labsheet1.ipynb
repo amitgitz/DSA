{
  "nbformat": 4,
  "nbformat_minor": 0,
  "metadata": {
    "colab": {
      "provenance": [],
      "authorship_tag": "ABX9TyPa37Rufwk8MLt49QsgeJw6",
      "include_colab_link": true
    },
    "kernelspec": {
      "name": "python3",
      "display_name": "Python 3"
    },
    "language_info": {
      "name": "python"
    }
  },
  "cells": [
    {
      "cell_type": "markdown",
      "metadata": {
        "id": "view-in-github",
        "colab_type": "text"
      },
      "source": [
        "<a href=\"https://colab.research.google.com/github/amitgitz/DSA/blob/main/Labsheet1.ipynb\" target=\"_parent\"><img src=\"https://colab.research.google.com/assets/colab-badge.svg\" alt=\"Open In Colab\"/></a>"
      ]
    },
    {
      "cell_type": "markdown",
      "source": [
        "**1. Python program to calculate Factorial using recursion.**"
      ],
      "metadata": {
        "id": "3elZvanqjFBa"
      }
    },
    {
      "cell_type": "code",
      "execution_count": 1,
      "metadata": {
        "colab": {
          "base_uri": "https://localhost:8080/"
        },
        "id": "S6bwCaOSizbE",
        "outputId": "32b803d9-4c4c-4834-e637-ba42cd422b56"
      },
      "outputs": [
        {
          "output_type": "stream",
          "name": "stdout",
          "text": [
            "120\n"
          ]
        }
      ],
      "source": [
        "def factorial(n):\n",
        "    if n == 0:\n",
        "        return 1\n",
        "    else:\n",
        "        return n * factorial(n-1)\n",
        "\n",
        "# Example usage\n",
        "print(factorial(5)) # Output: 120\n"
      ]
    },
    {
      "cell_type": "markdown",
      "source": [
        "**2. Python Program for Sum of squares of first n natural numbers.**"
      ],
      "metadata": {
        "id": "_EDR8sC6jUcH"
      }
    },
    {
      "cell_type": "code",
      "source": [
        "def sum_of_squares(n):\n",
        "    # Base case: if n is 0 or 1, return n\n",
        "    if n == 0 or n == 1:\n",
        "        return n\n",
        "    # Recursive case: compute the sum of squares of the first n-1 natural numbers,\n",
        "    # then add n^2 to the result\n",
        "    else:\n",
        "        return sum_of_squares(n-1) + n*n\n",
        "\n",
        "# Example\n",
        "print(sum_of_squares(5))\n"
      ],
      "metadata": {
        "colab": {
          "base_uri": "https://localhost:8080/"
        },
        "id": "jCt0M3Bijwq0",
        "outputId": "9f3eeff2-05b3-479c-ec0b-0962c3ec5f60"
      },
      "execution_count": 2,
      "outputs": [
        {
          "output_type": "stream",
          "name": "stdout",
          "text": [
            "55\n"
          ]
        }
      ]
    },
    {
      "cell_type": "markdown",
      "source": [
        "**3. Python Program to implement linear search.**\n"
      ],
      "metadata": {
        "id": "bRyrWBaZjx77"
      }
    },
    {
      "cell_type": "code",
      "source": [
        "def linear_search(arr, x):\n",
        "    \"\"\"\n",
        "    Searches for the element x in the given array arr using linear search.\n",
        "\n",
        "    Returns the index of the element if found, or -1 if not found.\n",
        "    \"\"\"\n",
        "    for i in range(len(arr)):\n",
        "        if arr[i] == x:\n",
        "            return i\n",
        "    return -1\n",
        "\n",
        "# Example usage\n",
        "arr = [1, 2, 3, 4, 5]\n",
        "x = 6\n",
        "result = linear_search(arr, x)\n",
        "if result == -1:\n",
        "    print(\"Element not found\")\n",
        "else:\n",
        "    print(f\"Element found at index {result}\")\n"
      ],
      "metadata": {
        "colab": {
          "base_uri": "https://localhost:8080/"
        },
        "id": "fL1d8o5Uj2TK",
        "outputId": "47d600a0-a3b1-41d2-8317-1a0148b62a76"
      },
      "execution_count": 3,
      "outputs": [
        {
          "output_type": "stream",
          "name": "stdout",
          "text": [
            "Element not found\n"
          ]
        }
      ]
    }
  ]
}